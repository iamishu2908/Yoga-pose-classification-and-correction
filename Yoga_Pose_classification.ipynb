{
  "nbformat": 4,
  "nbformat_minor": 0,
  "metadata": {
    "colab": {
      "provenance": []
    },
    "kernelspec": {
      "name": "python3",
      "display_name": "Python 3"
    },
    "language_info": {
      "name": "python"
    }
  },
  "cells": [
    {
      "cell_type": "code",
      "source": [],
      "metadata": {
        "id": "pxi0ajILLsS9"
      },
      "execution_count": null,
      "outputs": []
    },
    {
      "cell_type": "code",
      "source": [
        "from google.colab import drive\n",
        "drive.mount('/content/drive')"
      ],
      "metadata": {
        "colab": {
          "base_uri": "https://localhost:8080/"
        },
        "id": "agERxTtLLtkw",
        "outputId": "9a650632-624e-4c85-cc4e-8c538cf7edd2"
      },
      "execution_count": null,
      "outputs": [
        {
          "output_type": "stream",
          "name": "stdout",
          "text": [
            "Drive already mounted at /content/drive; to attempt to forcibly remount, call drive.mount(\"/content/drive\", force_remount=True).\n"
          ]
        }
      ]
    },
    {
      "cell_type": "code",
      "source": [
        "import pandas as pd\n",
        "import numpy as np\n",
        "import tensorflow as tf\n",
        "from sklearn.model_selection import train_test_split\n",
        "from sklearn.preprocessing import StandardScaler, LabelEncoder"
      ],
      "metadata": {
        "id": "G7FX97dNLvD-"
      },
      "execution_count": null,
      "outputs": []
    },
    {
      "cell_type": "code",
      "source": [
        "def load_multiple_classes(csv_files, labels):\n",
        "    data_list = []\n",
        "\n",
        "    for csv_file, label in zip(csv_files, labels):\n",
        "        df = pd.read_csv(csv_file)\n",
        "        df['Label'] = label\n",
        "        data_list.append(df)\n",
        "\n",
        "    # Combine all data into a single DataFrame\n",
        "    combined_data = pd.concat(data_list)\n",
        "\n",
        "    return combined_data\n",
        "\n",
        "# List of CSV files and their corresponding labels\n",
        "csv_files = [\n",
        "    \"/content/drive/MyDrive/Results/Dataset_ArdhaChandrasana_Angles.csv\",\n",
        "    '/content/drive/MyDrive/Results/Dataset_Vrukshasana_Angles.csv',\n",
        "    '/content/drive/MyDrive/Results/Dataset_Triangle_Angles.csv',\n",
        "    '/content/drive/MyDrive/Results/Dataset_Downward_Dog_Angles.csv',\n",
        "    '/content/drive/MyDrive/Results/Dataset_UtkataKonasana_Angles.csv'\n",
        "]\n",
        "\n",
        "labels = [\n",
        "    'ArdhaChandrasana', # 0\n",
        "    'Vrukshana', # 4\n",
        "    'Trikonasana', # 2\n",
        "    'DownwardDog', # 1\n",
        "    'UtkataKonasana' # 3\n",
        "]\n",
        "\n",
        "# Load and combine the data\n",
        "data = load_multiple_classes(csv_files, labels)"
      ],
      "metadata": {
        "id": "r5qSBzlIWloV"
      },
      "execution_count": null,
      "outputs": []
    },
    {
      "cell_type": "code",
      "source": [
        "print(data.head())"
      ],
      "metadata": {
        "colab": {
          "base_uri": "https://localhost:8080/"
        },
        "id": "1FEspsNb1VHx",
        "outputId": "5992b348-8965-4c97-8d6a-045b8e53b877"
      },
      "execution_count": null,
      "outputs": [
        {
          "output_type": "stream",
          "name": "stdout",
          "text": [
            "   Unnamed: 0             Label  left_elbow_angle  right_elbow_angle  \\\n",
            "0           0  ArdhaChandrasana        172.499604         187.485559   \n",
            "1           0  ArdhaChandrasana        178.720036         196.708758   \n",
            "2           0  ArdhaChandrasana        175.662074         183.517221   \n",
            "3           0  ArdhaChandrasana        164.412187         197.509685   \n",
            "4           0  ArdhaChandrasana        162.916913         187.253195   \n",
            "\n",
            "   left_shoulder_angle  right_shoulder_angle  left_knee_angle  \\\n",
            "0            94.156304            106.508059       179.450259   \n",
            "1           117.208177             72.176494       169.467784   \n",
            "2            77.658463            111.881986       177.916392   \n",
            "3            71.334097            112.253839       182.937609   \n",
            "4            79.835830            107.950771       177.371875   \n",
            "\n",
            "   right_knee_angle  angle_for_ardhaChandrasana1  angle_for_ardhaChandrasana2  \\\n",
            "0        187.021573                   260.491927                    90.093661   \n",
            "1        182.077942                   267.703965                   105.612495   \n",
            "2        190.891525                   257.144404                    91.447926   \n",
            "3        189.311057                   247.545445                   103.598182   \n",
            "4        190.002463                   241.853638                   107.237738   \n",
            "\n",
            "   hand_angle  left_hip_angle  right_hip_angle  neck_angle_uk  \\\n",
            "0  180.216741      177.526001       283.022912     287.342114   \n",
            "1  165.554012       68.388314       173.162648     326.787168   \n",
            "2  176.241771      187.512459       289.599904     293.278186   \n",
            "3  172.927653      170.500492       288.749796     306.007130   \n",
            "4  175.236358      167.041821       284.348526     292.988717   \n",
            "\n",
            "   left_wrist_angle_bk  right_wrist_angle_bk  \n",
            "0           137.311465            322.806814  \n",
            "1            31.961928            224.163495  \n",
            "2           135.479853            329.148014  \n",
            "3           119.722993            323.788437  \n",
            "4           123.161095            323.813540  \n"
          ]
        }
      ]
    },
    {
      "cell_type": "code",
      "source": [
        "# Select only the numerical columns (assuming they start from the second column)\n",
        "numerical_columns = data.columns[2:]  # Exclude the first few column (image paths)\n",
        "X = data[numerical_columns].values  # Extract feature columns (numerical only)\n",
        "y = data['Label'].values  # Extract labels"
      ],
      "metadata": {
        "id": "yVAedsuDYClo"
      },
      "execution_count": null,
      "outputs": []
    },
    {
      "cell_type": "code",
      "source": [
        "print(data[:6])"
      ],
      "metadata": {
        "colab": {
          "base_uri": "https://localhost:8080/"
        },
        "id": "J-LQj_24ZtzK",
        "outputId": "0f198adf-f9b3-408c-9e2d-346f5dfcce93"
      },
      "execution_count": null,
      "outputs": [
        {
          "output_type": "stream",
          "name": "stdout",
          "text": [
            "   Unnamed: 0             Label  left_elbow_angle  right_elbow_angle  \\\n",
            "0           0  ArdhaChandrasana        172.499604         187.485559   \n",
            "1           0  ArdhaChandrasana        178.720036         196.708758   \n",
            "2           0  ArdhaChandrasana        175.662074         183.517221   \n",
            "3           0  ArdhaChandrasana        164.412187         197.509685   \n",
            "4           0  ArdhaChandrasana        162.916913         187.253195   \n",
            "5           0  ArdhaChandrasana        166.205364         196.808692   \n",
            "\n",
            "   left_shoulder_angle  right_shoulder_angle  left_knee_angle  \\\n",
            "0            94.156304            106.508059       179.450259   \n",
            "1           117.208177             72.176494       169.467784   \n",
            "2            77.658463            111.881986       177.916392   \n",
            "3            71.334097            112.253839       182.937609   \n",
            "4            79.835830            107.950771       177.371875   \n",
            "5           122.811367             74.672094       184.139189   \n",
            "\n",
            "   right_knee_angle  angle_for_ardhaChandrasana1  angle_for_ardhaChandrasana2  \\\n",
            "0        187.021573                   260.491927                    90.093661   \n",
            "1        182.077942                   267.703965                   105.612495   \n",
            "2        190.891525                   257.144404                    91.447926   \n",
            "3        189.311057                   247.545445                   103.598182   \n",
            "4        190.002463                   241.853638                   107.237738   \n",
            "5        182.829176                   253.615730                   116.767275   \n",
            "\n",
            "   hand_angle  left_hip_angle  right_hip_angle  neck_angle_uk  \\\n",
            "0  180.216741      177.526001       283.022912     287.342114   \n",
            "1  165.554012       68.388314       173.162648     326.787168   \n",
            "2  176.241771      187.512459       289.599904     293.278186   \n",
            "3  172.927653      170.500492       288.749796     306.007130   \n",
            "4  175.236358      167.041821       284.348526     292.988717   \n",
            "5  172.819465       63.027157       189.042214     339.253123   \n",
            "\n",
            "   left_wrist_angle_bk  right_wrist_angle_bk  \n",
            "0           137.311465            322.806814  \n",
            "1            31.961928            224.163495  \n",
            "2           135.479853            329.148014  \n",
            "3           119.722993            323.788437  \n",
            "4           123.161095            323.813540  \n",
            "5            40.040551            239.736118  \n"
          ]
        }
      ]
    },
    {
      "cell_type": "code",
      "source": [
        "data.shape"
      ],
      "metadata": {
        "colab": {
          "base_uri": "https://localhost:8080/"
        },
        "id": "xLHXgsxocQfg",
        "outputId": "0ddc929b-aae6-4bab-d8ba-e9f8cc7ea1f5"
      },
      "execution_count": null,
      "outputs": [
        {
          "output_type": "execute_result",
          "data": {
            "text/plain": [
              "(303, 16)"
            ]
          },
          "metadata": {},
          "execution_count": 162
        }
      ]
    },
    {
      "cell_type": "code",
      "source": [
        "X.shape"
      ],
      "metadata": {
        "colab": {
          "base_uri": "https://localhost:8080/"
        },
        "id": "JcZ4SXzy4ZA4",
        "outputId": "3e0d79e8-d743-4843-d1c9-33eec8beaaf8"
      },
      "execution_count": null,
      "outputs": [
        {
          "output_type": "execute_result",
          "data": {
            "text/plain": [
              "(303, 14)"
            ]
          },
          "metadata": {},
          "execution_count": 163
        }
      ]
    },
    {
      "cell_type": "code",
      "source": [
        "y.shape"
      ],
      "metadata": {
        "colab": {
          "base_uri": "https://localhost:8080/"
        },
        "id": "sTw__FCI4Z0u",
        "outputId": "92c6d293-5a38-4cdf-9807-8485ccf04c19"
      },
      "execution_count": null,
      "outputs": [
        {
          "output_type": "execute_result",
          "data": {
            "text/plain": [
              "(303,)"
            ]
          },
          "metadata": {},
          "execution_count": 164
        }
      ]
    },
    {
      "cell_type": "code",
      "source": [
        "le = LabelEncoder()\n",
        "y = le.fit_transform(data['Label'])"
      ],
      "metadata": {
        "id": "czFVQCR0YEin"
      },
      "execution_count": null,
      "outputs": []
    },
    {
      "cell_type": "code",
      "source": [
        "print(y[:6])"
      ],
      "metadata": {
        "colab": {
          "base_uri": "https://localhost:8080/"
        },
        "id": "lXqQpOcA2Ac2",
        "outputId": "3f1397da-ab4a-43d0-ebdb-0ab203ea89b4"
      },
      "execution_count": null,
      "outputs": [
        {
          "output_type": "stream",
          "name": "stdout",
          "text": [
            "[0 0 0 0 0 0]\n"
          ]
        }
      ]
    },
    {
      "cell_type": "code",
      "source": [
        "# Normalize the features\n",
        "scaler = StandardScaler()\n",
        "X = scaler.fit_transform(X)"
      ],
      "metadata": {
        "id": "saS1kZcjYF7X"
      },
      "execution_count": null,
      "outputs": []
    },
    {
      "cell_type": "code",
      "source": [
        "print(X[:6])"
      ],
      "metadata": {
        "colab": {
          "base_uri": "https://localhost:8080/"
        },
        "id": "b79ywuzjUQ2w",
        "outputId": "52efb3b6-40f9-44c1-e85b-61d7022110aa"
      },
      "execution_count": null,
      "outputs": [
        {
          "output_type": "stream",
          "name": "stdout",
          "text": [
            "[[-0.08238099  0.18032697 -0.36030042 -0.23841074 -0.52318515  0.64839408\n",
            "  -0.10783741 -0.0980999   0.17293353  1.55671163  1.36824644  0.02241741\n",
            "   0.2460756   1.8610136 ]\n",
            " [ 0.02797782  0.33898716  0.03971656 -0.84679194 -0.72078407  0.54528597\n",
            "  -0.02957701  0.05788227  0.02357762 -0.74316624 -0.15823026  0.49162558\n",
            "  -0.99890766  0.50575247]\n",
            " [-0.02627454  0.11206246 -0.6465859  -0.14318071 -0.5535474   0.72910873\n",
            "  -0.14416258 -0.08448797  0.13244412  1.76715803  1.45963184  0.09302838\n",
            "   0.22443026  1.94813539]\n",
            " [-0.22586261  0.35276494 -0.75633204 -0.13659119 -0.45415452  0.69614529\n",
            "  -0.24832432  0.03763611  0.09868621  1.40866184  1.44781984  0.24444215\n",
            "   0.03822131  1.87450013]\n",
            " [-0.25239078  0.17632977 -0.60880226 -0.21284481 -0.5643259   0.71056579\n",
            "  -0.31008815  0.07421784  0.12220289  1.33577664  1.38666546  0.08958507\n",
            "   0.07885157  1.87484502]\n",
            " [-0.19404926  0.34070624  0.13694819 -0.80256803 -0.43036974  0.56095428\n",
            "  -0.18245348  0.17000066  0.09758419 -0.85614286  0.06241173  0.63991104\n",
            "  -0.90343738  0.71970483]]\n"
          ]
        }
      ]
    },
    {
      "cell_type": "code",
      "source": [
        "# Train-test split\n",
        "X_train, X_val, y_train, y_val = train_test_split(X, y, test_size=0.2, random_state=42)"
      ],
      "metadata": {
        "id": "bRCBDm1jY0SS"
      },
      "execution_count": null,
      "outputs": []
    },
    {
      "cell_type": "code",
      "source": [
        "# Build the model\n",
        "model = tf.keras.Sequential([\n",
        "    tf.keras.layers.Dense(128, activation='relu', input_shape=(X_train.shape[1],)),\n",
        "    tf.keras.layers.Dropout(0.5),\n",
        "    tf.keras.layers.Dense(64, activation='relu'),\n",
        "    tf.keras.layers.Dropout(0.5),\n",
        "    tf.keras.layers.Dense(32, activation='relu'),\n",
        "    tf.keras.layers.Dense(5, activation='softmax')  # 5 classes for 5 different yoga poses\n",
        "])"
      ],
      "metadata": {
        "colab": {
          "base_uri": "https://localhost:8080/"
        },
        "id": "4ZGrhq7qY2Uo",
        "outputId": "8f94ba54-d84f-4a86-edd8-17813d65b76b"
      },
      "execution_count": null,
      "outputs": [
        {
          "output_type": "stream",
          "name": "stderr",
          "text": [
            "/usr/local/lib/python3.10/dist-packages/keras/src/layers/core/dense.py:87: UserWarning: Do not pass an `input_shape`/`input_dim` argument to a layer. When using Sequential models, prefer using an `Input(shape)` object as the first layer in the model instead.\n",
            "  super().__init__(activity_regularizer=activity_regularizer, **kwargs)\n"
          ]
        }
      ]
    },
    {
      "cell_type": "code",
      "source": [
        "# Compile the model\n",
        "model.compile(optimizer='adam',\n",
        "              loss='sparse_categorical_crossentropy',\n",
        "              metrics=['accuracy'])"
      ],
      "metadata": {
        "id": "8zD0AvfXY5I5"
      },
      "execution_count": null,
      "outputs": []
    },
    {
      "cell_type": "code",
      "source": [
        "# Train the model\n",
        "history = model.fit(X_train, y_train, epochs=30, validation_data=(X_val, y_val), batch_size=16)\n"
      ],
      "metadata": {
        "colab": {
          "base_uri": "https://localhost:8080/"
        },
        "id": "kifMi2NHY602",
        "outputId": "6af8e838-842a-4367-d7ad-092c110329b4"
      },
      "execution_count": null,
      "outputs": [
        {
          "output_type": "stream",
          "name": "stdout",
          "text": [
            "Epoch 1/30\n",
            "\u001b[1m16/16\u001b[0m \u001b[32m━━━━━━━━━━━━━━━━━━━━\u001b[0m\u001b[37m\u001b[0m \u001b[1m2s\u001b[0m 21ms/step - accuracy: 0.2517 - loss: 1.6444 - val_accuracy: 0.5902 - val_loss: 1.4072\n",
            "Epoch 2/30\n",
            "\u001b[1m16/16\u001b[0m \u001b[32m━━━━━━━━━━━━━━━━━━━━\u001b[0m\u001b[37m\u001b[0m \u001b[1m0s\u001b[0m 6ms/step - accuracy: 0.3684 - loss: 1.4367 - val_accuracy: 0.6393 - val_loss: 1.2616\n",
            "Epoch 3/30\n",
            "\u001b[1m16/16\u001b[0m \u001b[32m━━━━━━━━━━━━━━━━━━━━\u001b[0m\u001b[37m\u001b[0m \u001b[1m0s\u001b[0m 8ms/step - accuracy: 0.4982 - loss: 1.3198 - val_accuracy: 0.8689 - val_loss: 1.1034\n",
            "Epoch 4/30\n",
            "\u001b[1m16/16\u001b[0m \u001b[32m━━━━━━━━━━━━━━━━━━━━\u001b[0m\u001b[37m\u001b[0m \u001b[1m0s\u001b[0m 10ms/step - accuracy: 0.5700 - loss: 1.1984 - val_accuracy: 0.9016 - val_loss: 0.9265\n",
            "Epoch 5/30\n",
            "\u001b[1m16/16\u001b[0m \u001b[32m━━━━━━━━━━━━━━━━━━━━\u001b[0m\u001b[37m\u001b[0m \u001b[1m0s\u001b[0m 9ms/step - accuracy: 0.6550 - loss: 1.0569 - val_accuracy: 0.9016 - val_loss: 0.7687\n",
            "Epoch 6/30\n",
            "\u001b[1m16/16\u001b[0m \u001b[32m━━━━━━━━━━━━━━━━━━━━\u001b[0m\u001b[37m\u001b[0m \u001b[1m0s\u001b[0m 7ms/step - accuracy: 0.7301 - loss: 0.8928 - val_accuracy: 0.9180 - val_loss: 0.6179\n",
            "Epoch 7/30\n",
            "\u001b[1m16/16\u001b[0m \u001b[32m━━━━━━━━━━━━━━━━━━━━\u001b[0m\u001b[37m\u001b[0m \u001b[1m0s\u001b[0m 7ms/step - accuracy: 0.7787 - loss: 0.7741 - val_accuracy: 0.9180 - val_loss: 0.4821\n",
            "Epoch 8/30\n",
            "\u001b[1m16/16\u001b[0m \u001b[32m━━━━━━━━━━━━━━━━━━━━\u001b[0m\u001b[37m\u001b[0m \u001b[1m0s\u001b[0m 9ms/step - accuracy: 0.8231 - loss: 0.7002 - val_accuracy: 0.9508 - val_loss: 0.3761\n",
            "Epoch 9/30\n",
            "\u001b[1m16/16\u001b[0m \u001b[32m━━━━━━━━━━━━━━━━━━━━\u001b[0m\u001b[37m\u001b[0m \u001b[1m0s\u001b[0m 9ms/step - accuracy: 0.8252 - loss: 0.5519 - val_accuracy: 0.9180 - val_loss: 0.3089\n",
            "Epoch 10/30\n",
            "\u001b[1m16/16\u001b[0m \u001b[32m━━━━━━━━━━━━━━━━━━━━\u001b[0m\u001b[37m\u001b[0m \u001b[1m0s\u001b[0m 9ms/step - accuracy: 0.8553 - loss: 0.5171 - val_accuracy: 0.9672 - val_loss: 0.2462\n",
            "Epoch 11/30\n",
            "\u001b[1m16/16\u001b[0m \u001b[32m━━━━━━━━━━━━━━━━━━━━\u001b[0m\u001b[37m\u001b[0m \u001b[1m0s\u001b[0m 8ms/step - accuracy: 0.8660 - loss: 0.4564 - val_accuracy: 0.9180 - val_loss: 0.2305\n",
            "Epoch 12/30\n",
            "\u001b[1m16/16\u001b[0m \u001b[32m━━━━━━━━━━━━━━━━━━━━\u001b[0m\u001b[37m\u001b[0m \u001b[1m0s\u001b[0m 8ms/step - accuracy: 0.8436 - loss: 0.4095 - val_accuracy: 0.9344 - val_loss: 0.1931\n",
            "Epoch 13/30\n",
            "\u001b[1m16/16\u001b[0m \u001b[32m━━━━━━━━━━━━━━━━━━━━\u001b[0m\u001b[37m\u001b[0m \u001b[1m0s\u001b[0m 7ms/step - accuracy: 0.8924 - loss: 0.3449 - val_accuracy: 0.9672 - val_loss: 0.1672\n",
            "Epoch 14/30\n",
            "\u001b[1m16/16\u001b[0m \u001b[32m━━━━━━━━━━━━━━━━━━━━\u001b[0m\u001b[37m\u001b[0m \u001b[1m0s\u001b[0m 8ms/step - accuracy: 0.9206 - loss: 0.3063 - val_accuracy: 0.9672 - val_loss: 0.1406\n",
            "Epoch 15/30\n",
            "\u001b[1m16/16\u001b[0m \u001b[32m━━━━━━━━━━━━━━━━━━━━\u001b[0m\u001b[37m\u001b[0m \u001b[1m0s\u001b[0m 8ms/step - accuracy: 0.9333 - loss: 0.2506 - val_accuracy: 0.9508 - val_loss: 0.1437\n",
            "Epoch 16/30\n",
            "\u001b[1m16/16\u001b[0m \u001b[32m━━━━━━━━━━━━━━━━━━━━\u001b[0m\u001b[37m\u001b[0m \u001b[1m0s\u001b[0m 9ms/step - accuracy: 0.9069 - loss: 0.2838 - val_accuracy: 0.9508 - val_loss: 0.1378\n",
            "Epoch 17/30\n",
            "\u001b[1m16/16\u001b[0m \u001b[32m━━━━━━━━━━━━━━━━━━━━\u001b[0m\u001b[37m\u001b[0m \u001b[1m0s\u001b[0m 10ms/step - accuracy: 0.9469 - loss: 0.2077 - val_accuracy: 0.9508 - val_loss: 0.1228\n",
            "Epoch 18/30\n",
            "\u001b[1m16/16\u001b[0m \u001b[32m━━━━━━━━━━━━━━━━━━━━\u001b[0m\u001b[37m\u001b[0m \u001b[1m0s\u001b[0m 8ms/step - accuracy: 0.9392 - loss: 0.2613 - val_accuracy: 0.9508 - val_loss: 0.1026\n",
            "Epoch 19/30\n",
            "\u001b[1m16/16\u001b[0m \u001b[32m━━━━━━━━━━━━━━━━━━━━\u001b[0m\u001b[37m\u001b[0m \u001b[1m0s\u001b[0m 8ms/step - accuracy: 0.8910 - loss: 0.2571 - val_accuracy: 0.9672 - val_loss: 0.0892\n",
            "Epoch 20/30\n",
            "\u001b[1m16/16\u001b[0m \u001b[32m━━━━━━━━━━━━━━━━━━━━\u001b[0m\u001b[37m\u001b[0m \u001b[1m0s\u001b[0m 5ms/step - accuracy: 0.9619 - loss: 0.1620 - val_accuracy: 0.9672 - val_loss: 0.0864\n",
            "Epoch 21/30\n",
            "\u001b[1m16/16\u001b[0m \u001b[32m━━━━━━━━━━━━━━━━━━━━\u001b[0m\u001b[37m\u001b[0m \u001b[1m0s\u001b[0m 5ms/step - accuracy: 0.9457 - loss: 0.1958 - val_accuracy: 0.9672 - val_loss: 0.0815\n",
            "Epoch 22/30\n",
            "\u001b[1m16/16\u001b[0m \u001b[32m━━━━━━━━━━━━━━━━━━━━\u001b[0m\u001b[37m\u001b[0m \u001b[1m0s\u001b[0m 6ms/step - accuracy: 0.9285 - loss: 0.1919 - val_accuracy: 0.9508 - val_loss: 0.0806\n",
            "Epoch 23/30\n",
            "\u001b[1m16/16\u001b[0m \u001b[32m━━━━━━━━━━━━━━━━━━━━\u001b[0m\u001b[37m\u001b[0m \u001b[1m0s\u001b[0m 6ms/step - accuracy: 0.9607 - loss: 0.1580 - val_accuracy: 0.9672 - val_loss: 0.0716\n",
            "Epoch 24/30\n",
            "\u001b[1m16/16\u001b[0m \u001b[32m━━━━━━━━━━━━━━━━━━━━\u001b[0m\u001b[37m\u001b[0m \u001b[1m0s\u001b[0m 6ms/step - accuracy: 0.9545 - loss: 0.1532 - val_accuracy: 0.9508 - val_loss: 0.0631\n",
            "Epoch 25/30\n",
            "\u001b[1m16/16\u001b[0m \u001b[32m━━━━━━━━━━━━━━━━━━━━\u001b[0m\u001b[37m\u001b[0m \u001b[1m0s\u001b[0m 5ms/step - accuracy: 0.9734 - loss: 0.1306 - val_accuracy: 0.9672 - val_loss: 0.0810\n",
            "Epoch 26/30\n",
            "\u001b[1m16/16\u001b[0m \u001b[32m━━━━━━━━━━━━━━━━━━━━\u001b[0m\u001b[37m\u001b[0m \u001b[1m0s\u001b[0m 5ms/step - accuracy: 0.9607 - loss: 0.1328 - val_accuracy: 0.9672 - val_loss: 0.0692\n",
            "Epoch 27/30\n",
            "\u001b[1m16/16\u001b[0m \u001b[32m━━━━━━━━━━━━━━━━━━━━\u001b[0m\u001b[37m\u001b[0m \u001b[1m0s\u001b[0m 5ms/step - accuracy: 0.9235 - loss: 0.1719 - val_accuracy: 0.9672 - val_loss: 0.0611\n",
            "Epoch 28/30\n",
            "\u001b[1m16/16\u001b[0m \u001b[32m━━━━━━━━━━━━━━━━━━━━\u001b[0m\u001b[37m\u001b[0m \u001b[1m0s\u001b[0m 6ms/step - accuracy: 0.9462 - loss: 0.1566 - val_accuracy: 0.9672 - val_loss: 0.0566\n",
            "Epoch 29/30\n",
            "\u001b[1m16/16\u001b[0m \u001b[32m━━━━━━━━━━━━━━━━━━━━\u001b[0m\u001b[37m\u001b[0m \u001b[1m0s\u001b[0m 6ms/step - accuracy: 0.9585 - loss: 0.1179 - val_accuracy: 0.9836 - val_loss: 0.0574\n",
            "Epoch 30/30\n",
            "\u001b[1m16/16\u001b[0m \u001b[32m━━━━━━━━━━━━━━━━━━━━\u001b[0m\u001b[37m\u001b[0m \u001b[1m0s\u001b[0m 6ms/step - accuracy: 0.9739 - loss: 0.1107 - val_accuracy: 0.9836 - val_loss: 0.0560\n"
          ]
        }
      ]
    },
    {
      "cell_type": "code",
      "source": [
        "# Evaluate the model\n",
        "val_loss, val_acc = model.evaluate(X_val, y_val)\n",
        "print(f\"Validation Accuracy: {val_acc}\")"
      ],
      "metadata": {
        "colab": {
          "base_uri": "https://localhost:8080/"
        },
        "id": "h-EZKqm5Y8qP",
        "outputId": "b9fde8d3-dd2d-4fc7-cfc9-a272913b26a4"
      },
      "execution_count": null,
      "outputs": [
        {
          "output_type": "stream",
          "name": "stdout",
          "text": [
            "\u001b[1m2/2\u001b[0m \u001b[32m━━━━━━━━━━━━━━━━━━━━\u001b[0m\u001b[37m\u001b[0m \u001b[1m0s\u001b[0m 7ms/step - accuracy: 0.9891 - loss: 0.0488 \n",
            "Validation Accuracy: 0.9836065769195557\n"
          ]
        }
      ]
    },
    {
      "cell_type": "code",
      "source": [
        "# Predictions\n",
        "y_pred = model.predict(X_val)\n",
        "predicted_classes = np.argmax(y_pred, axis=1)"
      ],
      "metadata": {
        "colab": {
          "base_uri": "https://localhost:8080/"
        },
        "id": "mcPpZF23ZAzJ",
        "outputId": "a7852d02-c6d6-4676-a9e0-f70421e9972f"
      },
      "execution_count": null,
      "outputs": [
        {
          "output_type": "stream",
          "name": "stdout",
          "text": [
            "\u001b[1m2/2\u001b[0m \u001b[32m━━━━━━━━━━━━━━━━━━━━\u001b[0m\u001b[37m\u001b[0m \u001b[1m0s\u001b[0m 56ms/step\n"
          ]
        }
      ]
    },
    {
      "cell_type": "code",
      "source": [
        "print(predicted_classes)"
      ],
      "metadata": {
        "colab": {
          "base_uri": "https://localhost:8080/"
        },
        "id": "UZAg1vDJrXX-",
        "outputId": "1c286c4d-2b99-41f4-c27e-f6734835b0f8"
      },
      "execution_count": null,
      "outputs": [
        {
          "output_type": "stream",
          "name": "stdout",
          "text": [
            "[1 1 4 3 4 0 2 1 3 0 0 4 0 2 2 0 2 1 3 3 2 3 3 0 2 3 3 4 1 4 2 3 1 0 0 2 4\n",
            " 4 0 0 4 3 2 4 0 3 3 4 3 1 1 3 4 4 1 1 3 4 3 1 1]\n"
          ]
        }
      ]
    },
    {
      "cell_type": "code",
      "source": [
        "print(y_val)"
      ],
      "metadata": {
        "colab": {
          "base_uri": "https://localhost:8080/"
        },
        "id": "Tz1kq_ZxsBvC",
        "outputId": "6625c09b-a388-4d1e-fb3d-ae0204ff9d6c"
      },
      "execution_count": null,
      "outputs": [
        {
          "output_type": "stream",
          "name": "stdout",
          "text": [
            "[1 1 4 3 4 0 2 1 3 0 0 4 0 2 2 0 2 1 3 3 2 3 3 0 2 3 3 4 1 4 2 3 1 0 0 2 4\n",
            " 4 0 0 4 4 2 4 0 3 3 4 3 1 1 3 4 4 1 1 3 4 3 1 1]\n"
          ]
        }
      ]
    },
    {
      "cell_type": "code",
      "source": [
        "model.save('/content/drive/MyDrive/yoga_pose_classifier.h5')"
      ],
      "metadata": {
        "colab": {
          "base_uri": "https://localhost:8080/"
        },
        "id": "D_x7o7AUahGf",
        "outputId": "a5816541-9ca1-47e0-9f89-a85cb856eaae"
      },
      "execution_count": null,
      "outputs": [
        {
          "output_type": "stream",
          "name": "stderr",
          "text": [
            "WARNING:absl:You are saving your model as an HDF5 file via `model.save()` or `keras.saving.save_model(model)`. This file format is considered legacy. We recommend using instead the native Keras format, e.g. `model.save('my_model.keras')` or `keras.saving.save_model(model, 'my_model.keras')`. \n"
          ]
        }
      ]
    },
    {
      "cell_type": "code",
      "source": [
        "print(X_val.shape)"
      ],
      "metadata": {
        "colab": {
          "base_uri": "https://localhost:8080/"
        },
        "id": "qb3mtEyZbbNZ",
        "outputId": "40b8a341-a9b4-4be2-f2cd-b3a2a9a5f59d"
      },
      "execution_count": null,
      "outputs": [
        {
          "output_type": "stream",
          "name": "stdout",
          "text": [
            "(61, 14)\n"
          ]
        }
      ]
    },
    {
      "cell_type": "code",
      "source": [
        "print(X_val[0:6])"
      ],
      "metadata": {
        "colab": {
          "base_uri": "https://localhost:8080/"
        },
        "id": "xdFRA6Sabf8j",
        "outputId": "125bbf26-155b-4039-bc99-5310441cbed7"
      },
      "execution_count": null,
      "outputs": [
        {
          "output_type": "stream",
          "name": "stdout",
          "text": [
            "[[-0.1620474  -0.24390676  1.21290225  1.00246219 -0.76351215  0.29484227\n",
            "   0.95626422 -0.99051604 -1.57368149 -0.51744368 -1.49199848 -3.32897901\n",
            "  -0.45319324 -1.50254329]\n",
            " [-0.16103654 -0.23219178  1.24995936  1.03342769 -0.61949945  0.44293941\n",
            "   0.95747015 -0.99215912 -1.46973293 -0.5658565  -1.56019142  0.87474428\n",
            "  -0.43580624 -1.53387468]\n",
            " [ 2.15615205 -2.11251447 -1.25055339 -1.56484563 -0.42413027 -2.09890248\n",
            "   0.96506914 -0.81766128 -0.68314596  1.42827853  0.79514875  0.32907815\n",
            "   0.87201135 -0.43594521]\n",
            " [-1.32057402  1.30634572 -0.17821933 -0.25229164  0.97246685 -1.2201662\n",
            "  -0.09579545 -0.02094304  0.27111119 -0.22512113  1.19700498  0.35141445\n",
            "  -0.07114347  0.83532368]\n",
            " [-0.0486537   0.4784193   1.36951347  0.98577386 -0.34368464 -2.66455538\n",
            "  -2.90296452 -0.69645584  1.57974139  1.51288429  0.77635001  0.31557664\n",
            "   0.84030428 -0.28381076]\n",
            " [-0.08707837  0.17510636 -0.60692131 -0.04123406 -0.53446367  0.50402994\n",
            "  -0.26843442  0.0551349   0.21438229  1.36826786  1.44921857  0.35141445\n",
            "   0.08876109  1.84147671]]\n"
          ]
        }
      ]
    },
    {
      "cell_type": "code",
      "source": [
        "print(y_val[0:6])"
      ],
      "metadata": {
        "colab": {
          "base_uri": "https://localhost:8080/"
        },
        "id": "liipS1SzaxLz",
        "outputId": "c3b16d55-1295-43b6-8073-a70f4b1c9bff"
      },
      "execution_count": null,
      "outputs": [
        {
          "output_type": "stream",
          "name": "stdout",
          "text": [
            "[1 1 4 3 4 0]\n"
          ]
        }
      ]
    },
    {
      "cell_type": "code",
      "source": [
        "from sklearn.metrics import accuracy_score\n",
        "# Calculate accuracy\n",
        "accuracy = accuracy_score(y_val,predicted_classes)\n",
        "\n",
        "print(f'Accuracy: {accuracy * 100:.2f}%')"
      ],
      "metadata": {
        "colab": {
          "base_uri": "https://localhost:8080/"
        },
        "id": "WO2t8uc1aKXg",
        "outputId": "105e0b25-fd79-4784-d359-177ba0fc06b9"
      },
      "execution_count": null,
      "outputs": [
        {
          "output_type": "stream",
          "name": "stdout",
          "text": [
            "Accuracy: 98.36%\n"
          ]
        }
      ]
    },
    {
      "cell_type": "code",
      "source": [],
      "metadata": {
        "id": "XbZzeKRUuFEa"
      },
      "execution_count": null,
      "outputs": []
    }
  ]
}